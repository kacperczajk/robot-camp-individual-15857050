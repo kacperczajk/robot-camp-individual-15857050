{
 "cells": [
  {
   "attachments": {},
   "cell_type": "markdown",
   "metadata": {},
   "source": [
    "# Foraging Robot Exercise\n",
    "In this individual exercise, you will write heuristics for a foraging robot so that it can efficiently gather fruits and berries in the forest. Your goal is to collect as much as you can!\n",
    "\n",
    "## Learning goals\n",
    "Refresh your knowledge of semester 2 statistics:\n",
    "- Probability\n",
    "- Probability distributions\n",
    "- Conditional probabilities\n",
    "    \n",
    "## Overview\n",
    "As for all individual exercises, you are expected to complete the bronze level, but silver and gold levels are fully optional.\n",
    "\n",
    "Bronze Level (~1 hour)\n",
    "- Introduction to the scenario\n",
    "- Estimate distributions from samples\n",
    "- Calculate cumulative distribution functions\n",
    "\n",
    "Silver Level (~1 hour)\n",
    "- Conditional probabilities\n",
    "\n",
    "Gold Level (~2.5 hours)\n",
    "- Making a strategy\n",
    "\n"
   ]
  },
  {
   "cell_type": "code",
   "execution_count": 23,
   "metadata": {},
   "outputs": [],
   "source": [
    "# Imports\n",
    "from IPython.display import Image\n",
    "import numpy as np\n",
    "import seaborn as sns\n",
    "import matplotlib.pyplot as plt\n",
    "from tests import tests"
   ]
  },
  {
   "attachments": {},
   "cell_type": "markdown",
   "metadata": {},
   "source": [
    "## Bronze Level: Your foraging robot\n",
    "\n",
    "Congratulations on acquiring your own ForageBot 3000. This robot can autonomously collect fruits and berries from your local forest.\n",
    "Let's import and initialize our robot:"
   ]
  },
  {
   "cell_type": "code",
   "execution_count": 3,
   "metadata": {},
   "outputs": [],
   "source": [
    "from scenario.forage_bot import ForageBot, Tree, BerryBush\n",
    "\n",
    "forageBot = ForageBot()"
   ]
  },
  {
   "attachments": {},
   "cell_type": "markdown",
   "metadata": {},
   "source": [
    "In the step above, we import the ForageBot class from a different file (module). We then initialize an instance of this class as *forageBot*.\n",
    "You have probably used classes before, such as DataFrames from the pandas module. All the methods (functions) and attributes (variables) of ForageBot() will be explained when we first use them, but if you want to have a look, you can also check out the scenario file to see the class definition.\n",
    "\n",
    "The most important ability of your ForageBot, of course, is to forage. Every day, you can send out your robot to forage from one location.\n",
    "During our initital survey of your local forest, we identified two nearby apple trees. Let's send your new robot to one of these trees to collect apples."
   ]
  },
  {
   "cell_type": "code",
   "execution_count": 10,
   "metadata": {},
   "outputs": [
    {
     "name": "stdout",
     "output_type": "stream",
     "text": [
      "The robot collected 2.33kg of apples\n"
     ]
    }
   ],
   "source": [
    "tree_one = ForageBot.pre_survey['tree_one']\n",
    "\n",
    "forageBot.forage(tree_one, verbose=True);"
   ]
  },
  {
   "attachments": {},
   "cell_type": "markdown",
   "metadata": {},
   "source": [
    "Well done! You've collected your first apples.\n",
    "Now, try running the cell above a few more times. You will notice, that the amount of apples you collect changes every time. Even though you are collecting from the same tree, the yield for the day is random.\n",
    "Now, try collecting apples from the second tree a few times:"
   ]
  },
  {
   "cell_type": "code",
   "execution_count": 20,
   "metadata": {},
   "outputs": [
    {
     "name": "stdout",
     "output_type": "stream",
     "text": [
      "The robot collected 6.07kg of apples\n"
     ]
    }
   ],
   "source": [
    "tree_two = ForageBot.pre_survey['tree_two']\n",
    "#np.random.seed(42)\n",
    "forageBot.forage(tree_two, verbose=True);"
   ]
  },
  {
   "attachments": {},
   "cell_type": "markdown",
   "metadata": {},
   "source": [
    "Did you notice a difference?\n",
    "The second tree seems to usually yield more apples. However, it's sometimes possible to collect more apples from tree one than from tree two.\n",
    "\n",
    "Later, we will go explore the forest and find new trees. Of course, we would like to find the best trees which yield us the most apples.\n",
    "Given that the amount of apples for any day is random, we should try to find the __expected result__ from any given tree.\n",
    "The easiest way to do this, would be to estimate the __average__ amount of apples we collect from any tree.\n",
    "Try below to calculate the mean amount of apples collected from a tree.\n",
    "It's as simple as summing up all the values you collected, and then dividing by the number of samples that you collected.\n",
    "\n",
    "Complete the function below by filling in the '...'"
   ]
  },
  {
   "cell_type": "code",
   "execution_count": 21,
   "metadata": {},
   "outputs": [
    {
     "name": "stdout",
     "output_type": "stream",
     "text": [
      "After 100 iterations, the mean yield from this tree was: 5.08kg\n",
      "All tests passed\n"
     ]
    }
   ],
   "source": [
    "def mean_tree_yield(tree, iterations=100) -> float:\n",
    "    \"\"\" Collects from a tree multiple times, and then returns the mean yield.\n",
    "\n",
    "    Args:\n",
    "        tree: Reference to the tree which we forage (sample) from.\n",
    "        iterations: The number of samples to collect.\n",
    "    \"\"\"\n",
    "    # Create an empty list of samples\n",
    "    samples = []\n",
    "    # Collect one new sample from the given tree in each iteration using the forage() function of our bot.\n",
    "    for i in range(iterations):\n",
    "        samples.append(forageBot.forage(tree))\n",
    "    # Calculate and return the mean\n",
    "    return sum(samples) / len(samples)\n",
    "\n",
    "\n",
    "\n",
    "mean_result = mean_tree_yield(tree_two)\n",
    "print(f'After 100 iterations, the mean yield from this tree was: {mean_result:.02f}kg')\n",
    "\n",
    "# This function is graded. You can uncomment the line below to test whether your function passes.\n",
    "tests.Test_MeanTreeYield(mean_tree_yield);"
   ]
  },
  {
   "attachments": {},
   "cell_type": "markdown",
   "metadata": {},
   "source": [
    "If you rerun the cell above, you will notice that the mean yield still changes every time, since we are only estimating it from 100 samples. Nevertheless, our estimate is now much more consistent than any single sample was.\n",
    "\n",
    "While the mean is often a useful metric, we might get an even better idea of what each apple tree yields if we plot the distribution of apples. Complete the code below to do just that."
   ]
  },
  {
   "cell_type": "code",
   "execution_count": 26,
   "metadata": {},
   "outputs": [
    {
     "data": {
      "image/png": "[encoded data removed]",
      "text/plain": [
       "<Figure size 640x480 with 1 Axes>"
      ]
     },
     "metadata": {},
     "output_type": "display_data"
    }
   ],
   "source": [
    "def plot_distribution(samples, color='blue') -> None:\n",
    "    \"\"\" Plots the distribution of collected samples.\n",
    "\n",
    "    Args:\n",
    "        samples: A list of samples from a distribution.\n",
    "        color: Name of the color in which to draw the distribution\n",
    "    \"\"\"\n",
    "\n",
    "    # Hint: Use the histplot function of seaborn (imported as sns)\n",
    "    sns.histplot(samples)\n",
    "    return None\n",
    "\n",
    "\n",
    "\n",
    "# Set random seed so output matches the expected output\n",
    "np.random.seed(42)\n",
    "# Collect from a tree 500 times\n",
    "samples = [forageBot.forage(tree_two) for i in range(500)]\n",
    "plot_distribution(samples)\n",
    "    "
   ]
  },
  {
   "attachments": {},
   "cell_type": "markdown",
   "metadata": {},
   "source": [
    "You should generate this image:\n",
    "\n",
    "<img src=\"resources/plot1.png\" alt=\"Distribution plot for tree_two\" width=\"200\"/>\n",
    "\n",
    "Now let's compare the two trees:"
   ]
  },
  {
   "cell_type": "code",
   "execution_count": 27,
   "metadata": {},
   "outputs": [
    {
     "data": {
      "image/png": "[encoded data removed]",
      "text/plain": [
       "<Figure size 640x480 with 1 Axes>"
      ]
     },
     "metadata": {},
     "output_type": "display_data"
    }
   ],
   "source": [
    "# Set random seed so output matches the expected output\n",
    "np.random.seed(42)\n",
    "\n",
    "# Collect from both trees\n",
    "samples_one = [forageBot.forage(tree_one) for i in range(500)]\n",
    "samples_two = [forageBot.forage(tree_two) for i in range(500)]\n",
    "\n",
    "# Plot distributions\n",
    "plot_distribution(samples_one, color='blue')\n",
    "plot_distribution(samples_two, color='red')"
   ]
  },
  {
   "attachments": {},
   "cell_type": "markdown",
   "metadata": {},
   "source": [
    "You should generate this image:\n",
    "\n",
    "<img src=\"resources/plot2.png\" alt=\"Distribution plot for tree_two\" width=\"200\"/>\n",
    "\n",
    "You can see that the distributions from both apple trees have a similar shape, but that tree two tends to give more apples than tree one.\n",
    "\n",
    "Now, let's have a look at two more trees"
   ]
  },
  {
   "cell_type": "code",
   "execution_count": 28,
   "metadata": {},
   "outputs": [
    {
     "data": {
      "image/png": "[encoded data removed]",
      "text/plain": [
       "<Figure size 640x480 with 1 Axes>"
      ]
     },
     "metadata": {},
     "output_type": "display_data"
    }
   ],
   "source": [
    "tree_three = ForageBot.pre_survey['tree_three']\n",
    "tree_four = ForageBot.pre_survey['tree_four']\n",
    "\n",
    "# Set random seed so output matches the expected output\n",
    "np.random.seed(42)\n",
    "\n",
    "# Collect from both trees\n",
    "samples_three = [forageBot.forage(tree_three) for i in range(500)]\n",
    "samples_four = [forageBot.forage(tree_four) for i in range(500)]\n",
    "\n",
    "# Plot distributions\n",
    "plot_distribution(samples_three, color='blue')\n",
    "plot_distribution(samples_four, color='red')"
   ]
  },
  {
   "attachments": {},
   "cell_type": "markdown",
   "metadata": {},
   "source": [
    "Although both of these apple trees seem to also be normally distributed, tree three has a much higher variance.\n",
    "\n",
    "If you run our mean_tree_yield() function, you will find that tree three (blue distribution) has a higher mean yield.\n",
    "\n",
    "But let's say you need 5kg of apples today. Can you calculate which of the two trees (tree_three and tree_four) is most likely to yield you at least 5kg on any given day?\n",
    "\n",
    "Don't remember how to calculate a probability from a distribution? Check out this: https://mathworld.wolfram.com/DistributionFunction.html\n",
    "\n",
    "You will need to do two things:\n",
    "1) Estimate the parameters of the distribution for each tree from the samples you collected. (You can use scipy.stats.norm)\n",
    "2) Calculate the probability for each tree to yield at least 5kg (You will want to use the cumulative distribution function for this)\n",
    "\n",
    "The commonly used Python packages all have pretty decent online documentation. Don't intrinsically know how to use scipy.stats.norm? Nobody does. Check this:\n",
    "https://docs.scipy.org/doc/scipy/reference/generated/scipy.stats.norm.html"
   ]
  },
  {
   "cell_type": "code",
   "execution_count": 30,
   "metadata": {},
   "outputs": [
    {
     "name": "stdout",
     "output_type": "stream",
     "text": [
      "All tests passed\n"
     ]
    }
   ],
   "source": [
    "from scipy.stats import norm\n",
    "\n",
    "# Use the same samples we collected above to make sure your answer matches ours.\n",
    "np.random.seed(42)\n",
    "samples_three = [forageBot.forage(tree_three) for i in range(500)]\n",
    "samples_four = [forageBot.forage(tree_four) for i in range(500)]\n",
    "\n",
    "# Complete the two steps described above here\n",
    "mean_three, std_three = norm.fit(samples_three)\n",
    "mean_four,  std_four  = norm.fit(samples_four)\n",
    "\n",
    "prob_tree_three = 1 - norm.cdf(5, loc = mean_three, scale = std_three)\n",
    "prob_tree_four = 1 - norm.cdf(5, loc = mean_four, scale = std_four)\n",
    "\n",
    "# Assign the probability that tree three yields more than 5kg of apples on any given day to ANSWER_PROB_TREE_THREE\n",
    "ANSWER_PROB_TREE_THREE = prob_tree_three\n",
    "# Assign the probability that tree four yields more than 5kg of apples on any given day to ANSWER_PROB_TREE_FOUR\n",
    "ANSWER_PROB_TREE_FOUR = prob_tree_four\n",
    "\n",
    "\n",
    "\n",
    "tests.Test_ExerciseTwo(ANSWER_PROB_TREE_THREE=ANSWER_PROB_TREE_THREE, ANSWER_PROB_TREE_FOUR=ANSWER_PROB_TREE_FOUR);"
   ]
  },
  {
   "attachments": {},
   "cell_type": "markdown",
   "metadata": {},
   "source": [
    "Now that we have figured out how to evaluate trees, let's explore a little and find some new ones.\n",
    "Your forage bot can also explore to find new foragable things in the forest. Run the function explore() a few times and see what you get."
   ]
  },
  {
   "cell_type": "code",
   "execution_count": 43,
   "metadata": {},
   "outputs": [
    {
     "name": "stdout",
     "output_type": "stream",
     "text": [
      "<scenario.forage_bot.BerryBush object at 0x0000018D5670C450>\n"
     ]
    }
   ],
   "source": [
    "discovery = forageBot.explore()\n",
    "print(discovery)"
   ]
  },
  {
   "attachments": {},
   "cell_type": "markdown",
   "metadata": {},
   "source": [
    "The output you get might not be the most clear. <scenario.forage_bot.Tree object at 0x000002978E34B7D0> simply means that the function explore() returned an object of class Tree from the scenario.forage_bot module. <scenario.forage_bot.BerryBush object at 0x000001ECEFC7B040> is a different class, BerryBush, from the same module. Apparently, explore can return one of two different return types.\n",
    "\n",
    "So, as you can see, your robot will find new trees and berry bushes when exploring."
   ]
  },
  {
   "attachments": {},
   "cell_type": "markdown",
   "metadata": {},
   "source": [
    "## Final task bronze level\n",
    "Your final task for the bronze medal is to find a tree that will yield more than 8kg of apples on more than 75% of days.\n",
    "Use the explore function together with the functions you have created so far!\n",
    "\n",
    "Note: Trees have some attributes which of course you could theoretically look up directly by checking the scenario files, instead of estimating them from samples. But a solution which is based on this will NOT be accepted.\n",
    "\n",
    "Since the explore() method can result in both Tree or BerryBush, you will need to check whether you found a Tree. There are several ways in which this can be done, on of which is the built-in isinstance() function."
   ]
  },
  {
   "cell_type": "code",
   "execution_count": 45,
   "metadata": {},
   "outputs": [
    {
     "name": "stdout",
     "output_type": "stream",
     "text": [
      "All tests passed\n"
     ]
    }
   ],
   "source": [
    "# Set a seed so that your solution works when we test it.\n",
    "np.random.seed(42)\n",
    "\n",
    "# Search for a new tree that fulfils the requirement\n",
    "BRONZE_MEDAL_TREE = None\n",
    "solution = False    # The loop will end when the solution is found\n",
    "\n",
    "while(solution == False):\n",
    "    discovery = forageBot.explore()\n",
    "    if isinstance(discovery, Tree):  # If we find a tree we forage and sample\n",
    "        samples = [forageBot.forage(discovery) for i in range(500)]\n",
    "        mean_discovery, std_discovery = norm.fit(samples)\n",
    "        prob_solution = 1 - norm.cdf(8, loc = mean_discovery, scale = std_discovery)    # Check if the sample fulfills the requirement\n",
    "        if prob_solution > 0.75:\n",
    "            solution = True\n",
    "            # Assign this tree here\n",
    "            BRONZE_MEDAL_TREE = discovery\n",
    "\n",
    "    \n",
    "\n",
    "\n",
    "tests.Test_ExerciseThree(BRONZE_MEDAL_TREE=BRONZE_MEDAL_TREE);"
   ]
  },
  {
   "attachments": {},
   "cell_type": "markdown",
   "metadata": {},
   "source": [
    "## Silver Level: Conditional Probabilities\n",
    "When solving the last task, you found not just trees, but also bushes. You had to ignore them while looking for a suitable tree, but now let's have a look at a berry bush!\n",
    "Run the cell below a few times."
   ]
  },
  {
   "cell_type": "code",
   "execution_count": null,
   "metadata": {},
   "outputs": [],
   "source": [
    "bush_one = forageBot.pre_survey['bush_one']\n",
    "forageBot.forage(bush_one, verbose=True);"
   ]
  },
  {
   "attachments": {},
   "cell_type": "markdown",
   "metadata": {},
   "source": [
    "Just like the apple trees, the yield varies each day; however, for berries, the yield seems to vary even more strongly.\n",
    "\n",
    "Let's collect a few samples and then plot the distribution."
   ]
  },
  {
   "cell_type": "code",
   "execution_count": null,
   "metadata": {},
   "outputs": [],
   "source": [
    "# Set random seed so output matches the expected output\n",
    "np.random.seed(42)\n",
    "\n",
    "# Collect from both trees\n",
    "samples = [forageBot.forage(bush_one) for i in range(5000)]\n",
    "\n",
    "# Plot distributions\n",
    "plot_distribution(samples)"
   ]
  },
  {
   "attachments": {},
   "cell_type": "markdown",
   "metadata": {},
   "source": [
    "That looks quite different from the apple trees!\n",
    "\n",
    "This appears to be a bimodal distribution. A common reason for bimodal distributions is that we might be measuring two different populations as one, or that our samples might be affected by a variable that we are not teking into account.\n",
    "\n",
    "Let's see if we can find an underlying explanation for this shape. One thing that might affect the performance of your ForageBot might be the weather. Let's try plotting samples from this berry bush depending on the current weather.\n",
    "\n",
    "You can check whether it is currently sunny or raining with forageBot.is_it_raining()\n",
    "\n",
    "Note that weather changes IMMEDIATELY AFTER each forage() or explore() action (or, strictly speaking, changes at the end of that function call). That means you must check the weather first, then go forage()."
   ]
  },
  {
   "cell_type": "code",
   "execution_count": null,
   "metadata": {},
   "outputs": [],
   "source": [
    "# Set random seed so output matches the expected output\n",
    "np.random.seed(42)\n",
    "\n",
    "samples_sunny = []\n",
    "samples_rainy = []\n",
    "\n",
    "for i in range(5000):\n",
    "    # Write code here to fill the lists above with a total of 5000 samples\n",
    "    pass\n",
    "\n",
    "\n",
    "\n",
    "# Plot distributions\n",
    "plot_distribution(samples_sunny, color='blue')\n",
    "plot_distribution(samples_rainy, color='red')"
   ]
  },
  {
   "attachments": {},
   "cell_type": "markdown",
   "metadata": {},
   "source": [
    "You should generate this image:\n",
    "\n",
    "<img src=\"resources/plot3.png\" alt=\"Seperate distributions based on weather\" width=\"200\"/>\n",
    "\n",
    "This indeed looks like two separate distributions! Make sure to note whether your ForageBot collects more berries in sunny or rainy weather, it may come in handy later!\n",
    "\n",
    "Earlier, we tried to figure out which apple tree gives us the best chance of getting a certain amount of apples for making pie. Now it's time for a blueberry cobbler, so let's see if we can calculate the chance of collecting at least 2kg of berries. Let us first plot the CDF of these samples by running the cell below."
   ]
  },
  {
   "cell_type": "code",
   "execution_count": null,
   "metadata": {},
   "outputs": [],
   "source": [
    "# Collecting again just as above\n",
    "np.random.seed(42)\n",
    "samples = [forageBot.forage(bush_one) for i in range(5000)]\n",
    "\n",
    "# Generate the cumulative distribution function from our samples\n",
    "sorted_samples = np.sort(samples)\n",
    "probability = np.arange(len(samples)) / (len(samples) - 1)\n",
    "\n",
    "# Plot the CDF:\n",
    "sns.lineplot(x=sorted_samples, y=probability);"
   ]
  },
  {
   "attachments": {},
   "cell_type": "markdown",
   "metadata": {},
   "source": [
    "You should generate this image:\n",
    "\n",
    "<img src=\"resources/plot4.png\" alt=\"\" width=\"200\"/>\n",
    "\n",
    "This plot shows us that there is visually a roughly 40% chance of getting a value below 2 from this distribution and thus a roughly 60% chance of getting at 2kg of berries or more.\n",
    "\n",
    "But we can get an even better estimate, if we take take the weather into account! Try creating the same plot, but split by weather."
   ]
  },
  {
   "cell_type": "code",
   "execution_count": null,
   "metadata": {},
   "outputs": [],
   "source": [
    "# Collecting again just as above\n",
    "np.random.seed(42)\n",
    "\n",
    "# These samples should still be available, if not recollect them as above.\n",
    "# samples_sunny = []\n",
    "# samples_rainy = []\n",
    "\n",
    "# Calculate the 2 PDFs for sunny and rainy weather here, using the code above.\n",
    "\n",
    "\n",
    "\n",
    "\n",
    "# Plot the CDF:\n",
    "sns.lineplot(x=sorted_samples_sunny, y=probability_sunny, color='blue')\n",
    "sns.lineplot(x=sorted_samples_rainy, y=probability_rainy, color='red');"
   ]
  },
  {
   "attachments": {},
   "cell_type": "markdown",
   "metadata": {},
   "source": [
    "You should generate this image:\n",
    "\n",
    "<img src=\"resources/plot5.png\" alt=\"\" width=\"200\"/>\n",
    "\n",
    "Looks like you are almost guaranteed 2kg of berries on a sunny day, but that on a rainy day you will rarely find so many.\n",
    "\n",
    "But if we want to plan ahead for whether we can bake a blueberry cobbler this week, we also need to know the probability of rain!\n",
    "\n",
    "We could collect some samples and then estimate the probability of rain, but I can also just tell you: Any day has a 40% chance of rain and is otherwise sunny.\n",
    "\n",
    "Now, with these probabilities, we can even make inferences on what the weather was like just from the amount of berries we collected. Let's say you programmed your BakeBot (sold separately) to make a blueberry cobbler any time the ForageBot returns with at least 2kg of berries. You've just come back from vacation, and there is a cobbler made yesterday waiting for you in the kitchen. What are the odds that it was raining yesterday?\n",
    "\n",
    "You know that $P(rain)=0.4$\n",
    "Now calculate the probability to find a cobbler depending on whether or not it rained, that is $P(cobbler|sunny)$ and $P(cobbler|rainy)$"
   ]
  },
  {
   "cell_type": "code",
   "execution_count": null,
   "metadata": {},
   "outputs": [],
   "source": [
    "# Here are the precise distributions for bush_one:\n",
    "bush_one_sunny_dist = norm(loc=3, scale=0.5)\n",
    "bush_one_rainy_dist = norm(loc=1.5, scale=0.5)\n",
    "\n",
    "# Calculate the precise probability of getting at least 2kg of berries from bush_one given either weather (using the cdf)\n",
    "ANSWER_PROB_IF_SUNNY = None\n",
    "ANSWER_PROB_IF_RAINY = None\n",
    "\n"
   ]
  },
  {
   "attachments": {},
   "cell_type": "markdown",
   "metadata": {},
   "source": [
    "Now calculate the probability that it has rained, given that you know enough berries have been collected, that is $P(rainy|cobbler)$\n",
    "\n",
    "You can use Bayes' rule: $$P(B|A)={\\frac {P(A|B)*P(B)}{P(A)}}$$\n",
    "\n",
    "Remember that the overall probability of event A can be rewritten as: $$P(A)={P(A|B)P(B) + P(A|\\neg B)P(\\neg B)}$$\n",
    "\n",
    "Hint: If you are lost, try entering what you know here: https://www.omnicalculator.com/statistics/conditional-probability"
   ]
  },
  {
   "cell_type": "code",
   "execution_count": null,
   "metadata": {},
   "outputs": [],
   "source": [
    "# Calculate the probability that it has rained\n",
    "\n",
    "# Assign the probability that it has rained below\n",
    "ANSWER_HAS_IT_RAINED = None\n",
    "\n"
   ]
  },
  {
   "attachments": {},
   "cell_type": "markdown",
   "metadata": {},
   "source": [
    "## Gold Level: Explore and Exploit\n",
    "The gold level is a single challenge: Make as much money from your ForageBot as possible in 5000 days.\n",
    "\n",
    "There are a few new rules for this, which will be briefoly explained.\n",
    "\n",
    "First, every time to explore or forage a day passes, which will be counted. The days can be reset with ForageBot.reset_days() which you MUST call in the first AND ONLY THE FIRST line of your solution."
   ]
  },
  {
   "cell_type": "code",
   "execution_count": null,
   "metadata": {},
   "outputs": [],
   "source": [
    "ForageBot.reset_days()\n",
    "forageBot = ForageBot()\n",
    "day = forageBot.what_day_is_it()\n",
    "print(f'It is day {day}')\n",
    "forageBot.explore()\n",
    "day = forageBot.what_day_is_it()\n",
    "print(f'It is day {day}')\n",
    "forageBot.forage(ForageBot.pre_survey['tree_one'])\n",
    "day = forageBot.what_day_is_it()\n",
    "print(f'It is day {day}')"
   ]
  },
  {
   "attachments": {},
   "cell_type": "markdown",
   "metadata": {},
   "source": [
    "Things you forage are stored in your inventory. Apples and berries last three days and then expire (disappear from the inventory).\n",
    "Items in the inventory are stored as tuples: (Type of fruit: str, amount: float, days until it spoils: int)"
   ]
  },
  {
   "cell_type": "code",
   "execution_count": null,
   "metadata": {},
   "outputs": [],
   "source": [
    "forageBot = ForageBot()\n",
    "print(forageBot.inventory)\n",
    "forageBot.forage(ForageBot.pre_survey['tree_one'])\n",
    "print(forageBot.inventory)\n",
    "forageBot.forage(ForageBot.pre_survey['tree_one'])\n",
    "print(forageBot.inventory)\n",
    "forageBot.forage(ForageBot.pre_survey['bush_one'])\n",
    "print(forageBot.inventory)\n",
    "forageBot.forage(ForageBot.pre_survey['bush_one'])\n",
    "print(forageBot.inventory)"
   ]
  },
  {
   "attachments": {},
   "cell_type": "markdown",
   "metadata": {},
   "source": [
    "You can now sell what you foraged! You can only sell all of your inventory at once, not individual items.\n",
    "Apples are usually worth 1 euro per kilo.\n",
    "Berries are usually worth 3 euros per kilo.\n",
    "Prices can however vary by weekday. Apples sell better on Tuesday and Wednesday. Berries sell better on the weekend. The first day is a Monday."
   ]
  },
  {
   "cell_type": "code",
   "execution_count": null,
   "metadata": {},
   "outputs": [],
   "source": [
    "forageBot = ForageBot()\n",
    "forageBot.forage(ForageBot.pre_survey['tree_one'])\n",
    "forageBot.sell(verbose=True)\n",
    "forageBot.forage(ForageBot.pre_survey['tree_one'])\n",
    "forageBot.forage(ForageBot.pre_survey['bush_one'])\n",
    "forageBot.sell(verbose=True);"
   ]
  },
  {
   "attachments": {},
   "cell_type": "markdown",
   "metadata": {},
   "source": [
    "Now try to find the optimal strategy for making as much money in 5000 days as possible!\n",
    "\n",
    "- You may call forageBot.explore() and forageBot.forage() a combined total of 5000 times. Weather can change every day, and the day passes immediately after exploring or foraging.\n",
    "- You may sell() as often as you want. Take weekday prices into account. The first day is Monday.\n",
    "- ForageBot.reset_days() MUST be called in the first AND ONLY THE FIRST line of your solution.\n",
    "- You MAY NOT use any of the pre_survey trees and bushes, nor may you use trees or bushes you have discovered previously. You can only forage things you have found within the 5000 days.\n",
    "- You MAY NOT directly modify any things you can find in forage_bot.py, such as manually creating trees or messing with sales prices, etc.\n",
    "- You MAY NOT use additional imports in the solution you submit. You may use libraries imported at the beginning, such as numpy.\n",
    "- You may hardcode parameters that you may have discovered while using additional libraries such as sklearn, as long as those are no longer imported and required for the solution.\n",
    "- We may test your solution with a different random seed if the solution seems to rely on something that can only happen in the chosen seed. In that case, you will receive gold if your solution passes at least a quarter of all seeds.\n",
    "\n",
    "You will receive the gold medal if you manage to earn more than €100.000,00!"
   ]
  },
  {
   "cell_type": "code",
   "execution_count": null,
   "metadata": {},
   "outputs": [],
   "source": [
    "ForageBot.reset_days(limit=5000)\n",
    "forageBot = ForageBot()\n",
    "np.random.seed(42)\n",
    "# Do not change the lines above\n",
    "\n",
    "# Do whatever you think is best! You can call explore() and forage() a combined total of 5000 times, and should then stop. Don't forget to sell() as well.\n",
    "# Here is a sample solution, which you can hopefully improve:\n",
    "first_thing_we_find = forageBot.explore()\n",
    "for i in range(4999):\n",
    "    forageBot.forage(first_thing_we_find)\n",
    "    forageBot.sell()\n",
    "\n"
   ]
  }
 ],
 "metadata": {
  "kernelspec": {
   "display_name": "Python 3",
   "language": "python",
   "name": "python3"
  },
  "language_info": {
   "codemirror_mode": {
    "name": "ipython",
    "version": 3
   },
   "file_extension": ".py",
   "mimetype": "text/x-python",
   "name": "python",
   "nbconvert_exporter": "python",
   "pygments_lexer": "ipython3",
   "version": "3.11.9"
  },
  "orig_nbformat": 4
 },
 "nbformat": 4,
 "nbformat_minor": 2
}
